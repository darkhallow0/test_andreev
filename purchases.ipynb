{
 "cells": [
  {
   "cell_type": "code",
   "execution_count": 31,
   "id": "76b75970",
   "metadata": {},
   "outputs": [
    {
     "name": "stdout",
     "output_type": "stream",
     "text": [
      "Общая выручка: 23.5\n",
      "Товары по категориям: {'fruit': {'banana', 'apple'}, 'dairy': {'milk'}, 'bakery': {'bread'}}\n",
      "Покупки дороже 1.0: [{'item': 'apple', 'category': 'fruit', 'price': 1.2, 'quantity': 10}, {'item': 'milk', 'category': 'dairy', 'price': 1.5, 'quantity': 2}, {'item': 'bread', 'category': 'bakery', 'price': 2.0, 'quantity': 3}]\n",
      "Средняя цена по категориям: {'fruit': 7.5, 'dairy': 2.0, 'bakery': 3.0}\n",
      "Категория с наибольшим количеством проданных товаров: fruit\n"
     ]
    }
   ],
   "source": [
    "import json\n",
    "\n",
    "def load_purchases(filename):\n",
    "    with open(filename, \"r\", encoding=\"utf-8\") as file:\n",
    "        return json.load(file)\n",
    "\n",
    "def total_revenue(purchase):\n",
    "    total = 0\n",
    "    for item in purchase:\n",
    "        total += (item[\"price\"] * item[\"quantity\"])\n",
    "    return total\n",
    "\n",
    "\n",
    "def items_by_category(purchase):\n",
    "    category_dict = {}\n",
    "    for item in purchase:\n",
    "        category = item[\"category\"]\n",
    "        if category not in category_dict:\n",
    "            category_dict[category] = set ()\n",
    "        category_dict[category].add(item[\"item\"])\n",
    "    return category_dict\n",
    "\n",
    "\n",
    "def expensive_purchases(purchase, min_price):\n",
    "    exp_pur = []\n",
    "    for item in purchase:\n",
    "        if(item[\"price\"] > min_price):\n",
    "            exp_pur.append(item)\n",
    "    return exp_pur\n",
    "\n",
    "min_price = 1.0\n",
    "\n",
    "\n",
    "def average_price_by_category(purchase) :\n",
    "    group_pur = {}\n",
    "    for p in purchase:\n",
    "        category = p['category']\n",
    "        quantity = p['quantity']\n",
    "        if category not in group_pur:\n",
    "            group_pur [category] = []\n",
    "        group_pur[category].append(quantity)\n",
    "    avg_quant = {key: sum(values)/len(values) for key,values in group_pur.items()}\n",
    "    return avg_quant\n",
    "\n",
    "def most_frequent_category(purchase):\n",
    "    group_pur = {}\n",
    "    for p in purchase:\n",
    "        category = p['category']\n",
    "        quantity = p['quantity']\n",
    "        if category not in group_pur:\n",
    "            group_pur[category] = []\n",
    "        group_pur[category].append(quantity)\n",
    "    sum_quant = {key: sum(values) for key, values in group_pur.items()}\n",
    "    return max (sum_quant)\n",
    "\n",
    "\n",
    "purchases = load_purchases(\"C:/Users/Андрей/Desktop/purchase.json\")\n",
    "\n",
    "\n",
    "print(f\"Общая выручка: {total_revenue(purchases)}\")\n",
    "print(f\"Товары по категориям: {items_by_category(purchases)}\")\n",
    "print(f\"Покупки дороже 1.0: {expensive_purchases(purchases, 1.0)}\")\n",
    "print(f\"Средняя цена по категориям: {average_price_by_category(purchases)}\")\n",
    "print(f\"Категория с наибольшим количеством проданных товаров: {most_frequent_category(purchases)}\")"
   ]
  },
  {
   "cell_type": "code",
   "execution_count": null,
   "id": "8b8ad8ce",
   "metadata": {},
   "outputs": [],
   "source": []
  },
  {
   "cell_type": "code",
   "execution_count": 26,
   "id": "0f3ef007",
   "metadata": {},
   "outputs": [],
   "source": []
  },
  {
   "cell_type": "code",
   "execution_count": null,
   "id": "c1c58ea7",
   "metadata": {},
   "outputs": [],
   "source": []
  }
 ],
 "metadata": {
  "kernelspec": {
   "display_name": "Python 3 (ipykernel)",
   "language": "python",
   "name": "python3"
  },
  "language_info": {
   "codemirror_mode": {
    "name": "ipython",
    "version": 3
   },
   "file_extension": ".py",
   "mimetype": "text/x-python",
   "name": "python",
   "nbconvert_exporter": "python",
   "pygments_lexer": "ipython3",
   "version": "3.9.12"
  }
 },
 "nbformat": 4,
 "nbformat_minor": 5
}
